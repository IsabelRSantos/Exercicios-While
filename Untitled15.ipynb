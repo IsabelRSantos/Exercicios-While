{
  "nbformat": 4,
  "nbformat_minor": 0,
  "metadata": {
    "colab": {
      "provenance": []
    },
    "kernelspec": {
      "name": "python3",
      "display_name": "Python 3"
    },
    "language_info": {
      "name": "python"
    }
  },
  "cells": [
    {
      "cell_type": "code",
      "execution_count": null,
      "metadata": {
        "id": "GcnqgGsp_WZ-"
      },
      "outputs": [],
      "source": [
        "nota = float(input(\"digite uma nota entre zero e dez: \"))\n",
        "while nota > 10 or nota < 0:\n",
        "  nota = float(input(\"digite um valor valido: \"))\n",
        "print(\"sucesso\")"
      ]
    },
    {
      "cell_type": "code",
      "source": [
        "numero = int(input(\"por favor, digite um numero: \"))\n",
        "\n",
        "contador = 1\n",
        "\n",
        "while contador <= 10:\n",
        "  resultado = numero * contador\n",
        "  print(f\"{numero}*{contador} = {resultado}\")\n",
        "  contador += 1"
      ],
      "metadata": {
        "id": "lIbQIm4xBfcU"
      },
      "execution_count": null,
      "outputs": []
    },
    {
      "cell_type": "code",
      "source": [
        "usuario = float(input(\"digite o nome do usuario: \"))\n",
        "senha = float(input(\"digite uma senha: \"))\n",
        "while senha == usuario:\n",
        "  print(\"senha indisponível\")\n",
        "  usuario = float(input(\"digite o nome do usuario: \"))\n",
        "  senha = float(input(\"digite uma senha: \"))\n"
      ],
      "metadata": {
        "id": "gIvBifOiEytO"
      },
      "execution_count": null,
      "outputs": []
    },
    {
      "cell_type": "code",
      "source": [
        "contador= 1\n",
        "\n",
        "while numero <= 10:\n",
        "  print(numero)\n",
        "  numero +=1\n",
        "\n",
        "\n",
        "\n",
        "\n",
        ""
      ],
      "metadata": {
        "id": "glJs0tV6I2tE"
      },
      "execution_count": null,
      "outputs": []
    },
    {
      "cell_type": "code",
      "source": [
        "numero= 2\n",
        "\n",
        "while numero <= 20:\n",
        "  print(numero)\n",
        "  numero +=2\n"
      ],
      "metadata": {
        "id": "u1xZ2ZLOTedJ"
      },
      "execution_count": null,
      "outputs": []
    },
    {
      "cell_type": "code",
      "source": [
        "numero = int(input(\"digite um numero\"))\n",
        "contador = 1\n",
        "\n",
        "while contador != numero:\n",
        "  print(contador)\n",
        "  contador += 1"
      ],
      "metadata": {
        "id": "VGVJNOFNVP6c"
      },
      "execution_count": null,
      "outputs": []
    },
    {
      "cell_type": "code",
      "source": [
        "contador = 2\n",
        "numero = int(input(\"digite um numero\"))\n",
        "while contador != numero:\n",
        "  print(contador)\n",
        "  contador += 2"
      ],
      "metadata": {
        "id": "oOZeQxN-YfVQ"
      },
      "execution_count": null,
      "outputs": []
    },
    {
      "cell_type": "code",
      "source": [
        "senha=1969\n",
        "\n",
        "senha1=int(input(\"digite uma senha: \"))\n",
        "\n",
        "while senha1 != senha:\n",
        "  print(\"senha invalida\")\n",
        "  senha1=int(input(\"digite uma senha: \"))\n",
        "  print(\"acesso permitido\")\n",
        "\n"
      ],
      "metadata": {
        "id": "dqcBSLy1ZFAm"
      },
      "execution_count": null,
      "outputs": []
    },
    {
      "cell_type": "code",
      "source": [
        "soma= 0\n",
        "contador= 0\n",
        "\n",
        "quantidade=int(input(\"digite um numero\"))\n",
        "while contador != quantidade:\n",
        "  valor=int(input(\"digite um numero\"))\n",
        "  soma += valor\n",
        "  contador += 1\n",
        "  media=soma/numero\n",
        "\n",
        "print(f\"o valor media é {media}\")\n",
        "\n",
        "\n",
        ""
      ],
      "metadata": {
        "id": "iDG7JEPOdWz-"
      },
      "execution_count": null,
      "outputs": []
    },
    {
      "cell_type": "code",
      "source": [
        "soma= 0\n",
        "\n",
        "numero= int(input(\"digite um numero\"))\n",
        "while numero != 0:\n",
        "  soma += numero\n",
        "  numero= int(input(\"digite um numero\"))\n",
        "\n",
        "print(f\"o maior valor é {soma}\")\n",
        "\n",
        "\n",
        "\n",
        "\n"
      ],
      "metadata": {
        "id": "5OG4S3RIgflv"
      },
      "execution_count": null,
      "outputs": []
    }
  ]
}