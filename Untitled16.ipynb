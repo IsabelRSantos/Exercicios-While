{
  "nbformat": 4,
  "nbformat_minor": 0,
  "metadata": {
    "colab": {
      "provenance": []
    },
    "kernelspec": {
      "name": "python3",
      "display_name": "Python 3"
    },
    "language_info": {
      "name": "python"
    }
  },
  "cells": [
    {
      "cell_type": "code",
      "source": [
        "nota = float(input(\"digite uma nota entre zero e dez: \"))\n",
        "while nota > 10 or nota < 0:\n",
        "  nota = float(input(\"digite um valor valido: \"))\n",
        "print(\"sucesso\")"
      ],
      "metadata": {
        "id": "GGnmj42hPkSI"
      },
      "execution_count": null,
      "outputs": []
    },
    {
      "cell_type": "code",
      "source": [
        "numero = int(input(\"por favor, digite um numero: \"))\n",
        "\n",
        "contador = 1\n",
        "\n",
        "while contador <= 10:\n",
        "  resultado = numero * contador\n",
        "  print(f\"{numero}*{contador} = {resultado}\")\n",
        "  contador += 1"
      ],
      "metadata": {
        "id": "EPQiX_eUPnZQ"
      },
      "execution_count": null,
      "outputs": []
    },
    {
      "cell_type": "code",
      "source": [
        "usuario = float(input(\"digite o nome do usuario: \"))\n",
        "senha = float(input(\"digite uma senha: \"))\n",
        "while senha == usuario:\n",
        "  print(\"senha indisponível\")\n",
        "  usuario = float(input(\"digite o nome do usuario: \"))\n",
        "  senha = float(input(\"digite uma senha: \"))\n"
      ],
      "metadata": {
        "id": "n75bsKXpPoRq"
      },
      "execution_count": null,
      "outputs": []
    },
    {
      "cell_type": "code",
      "source": [
        "contador= 1\n",
        "\n",
        "while numero <= 10:\n",
        "  print(numero)\n",
        "  numero +=1\n",
        "\n"
      ],
      "metadata": {
        "id": "oV2DU0sXPr4O"
      },
      "execution_count": null,
      "outputs": []
    },
    {
      "cell_type": "code",
      "source": [
        "numero= 2\n",
        "\n",
        "while numero <= 20:\n",
        "  print(numero)\n",
        "  numero +=2\n",
        "\n",
        ""
      ],
      "metadata": {
        "id": "LPsdtdBtPvHR"
      },
      "execution_count": null,
      "outputs": []
    },
    {
      "cell_type": "code",
      "source": [
        "numero = int(input(\"digite um numero\"))\n",
        "contador = 1\n",
        "\n",
        "while contador != numero:\n",
        "  print(contador)\n",
        "  contador += 1\n",
        "\n"
      ],
      "metadata": {
        "id": "OW98tagIPx7P"
      },
      "execution_count": null,
      "outputs": []
    },
    {
      "cell_type": "code",
      "source": [
        "numero = int(input(\"digite um numero\"))\n",
        "contador = 1\n",
        "\n",
        "while contador != numero:\n",
        "  print(contador)\n",
        "  contador += 1\n",
        "\n"
      ],
      "metadata": {
        "id": "mWSqpufmP1LX"
      },
      "execution_count": null,
      "outputs": []
    },
    {
      "cell_type": "code",
      "source": [
        "senha=1969\n",
        "\n",
        "senha1=int(input(\"digite uma senha: \"))\n",
        "\n",
        "while senha1 != senha:\n",
        "  print(\"senha invalida\")\n",
        "  senha1=int(input(\"digite uma senha: \"))\n",
        "  print(\"acesso permitido\")\n"
      ],
      "metadata": {
        "id": "rLAZ9TzyP60q"
      },
      "execution_count": null,
      "outputs": []
    },
    {
      "cell_type": "code",
      "source": [
        "soma= 0\n",
        "contador= 0\n",
        "\n",
        "quantidade=int(input(\"digite um numero\"))\n",
        "while contador != quantidade:\n",
        "  valor=int(input(\"digite um numero\"))\n",
        "  soma += valor\n",
        "  contador += 1\n",
        "  media=soma/numero\n",
        "\n",
        "print(f\"o valor media é {media}\")\n"
      ],
      "metadata": {
        "id": "LkmHTLxuP76g"
      },
      "execution_count": null,
      "outputs": []
    },
    {
      "cell_type": "code",
      "source": [
        "soma= 0\n",
        "\n",
        "numero= int(input(\"digite um numero\"))\n",
        "while numero != 0:\n",
        "  soma += numero\n",
        "  numero= int(input(\"digite um numero\"))\n",
        "\n",
        "print(f\"o maior valor é {soma}\")\n",
        "\n"
      ],
      "metadata": {
        "id": "vUMRGXpyP_Xw"
      },
      "execution_count": null,
      "outputs": []
    },
    {
      "cell_type": "code",
      "source": [
        "maior_numero=0\n",
        "\n",
        "valor=int(input(\"digite um numero\"))\n",
        "while valor >= 0:\n",
        "  valor=int(input(\"digite um numero\"))\n",
        "  if valor >= maior_numero:\n",
        "     maior_numero = valor\n",
        "\n",
        "print(f\"o maior numero é {maior_numero}\")"
      ],
      "metadata": {
        "id": "MVtLxGwwQeqG"
      },
      "execution_count": null,
      "outputs": []
    }
  ]
}